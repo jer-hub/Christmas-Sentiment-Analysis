{
 "cells": [
  {
   "cell_type": "code",
   "execution_count": 2,
   "metadata": {},
   "outputs": [],
   "source": [
    "from bs4 import BeautifulSoup\n",
    "import requests\n",
    "import pickle\n",
    "import re\n",
    "import string\n",
    "import pandas as pd"
   ]
  },
  {
   "cell_type": "code",
   "execution_count": 3,
   "metadata": {},
   "outputs": [],
   "source": [
    "url = [\n",
    "    \"https://www.beliefnet.com/faiths/religious-observances/christmas/6-things-parents-can-do-to-make-christmas-merrier.aspx\",\n",
    "    \"https://us.woodgeekstore.com/blogs/news/christmas-gifts\",\n",
    "    \"https://minibusinessnews.com/how-to-make-a-christmas-even-merrier/\",\n",
    "    \"https://www.realbuzz.com/articles-interests/festive-health-fitness/article/10-ways-to-make-this-your-best-christmas-ever/\",\n",
    "    \"https://www.insider.com/things-you-should-always-do-on-christmas-2017-12#spend-time-with-loved-ones-3\",\n",
    "    \"https://www.lifeandexperiences.com/how-to-do-good-this-christmas/\"\n",
    "]\n",
    "\n",
    "author = [\n",
    "    \"Mark Driscoll\",\"Woodgeek\",\"Sunny95mishra95\",\"RealBuzz\",\"Madeline Diamond\", \"Amelie Lawrence\"\n",
    "]"
   ]
  },
  {
   "cell_type": "code",
   "execution_count": 4,
   "metadata": {},
   "outputs": [],
   "source": [
    "def url_to_transcript(url):\n",
    "    page = requests.get(url).text\n",
    "    soup = BeautifulSoup(page,'lxml')\n",
    "    if url == \"https://www.beliefnet.com/faiths/religious-observances/christmas/6-things-parents-can-do-to-make-christmas-merrier.aspx\":\n",
    "        text = [ p.text for p in soup.find(class_=\"beliefnet-gallery entry\").find_all(class_=\"hide\")]\n",
    "    elif url == \"https://us.woodgeekstore.com/blogs/news/christmas-gifts\":\n",
    "        text = [ p.text for p in soup.find(class_=\"article_content clearfix\").find_all('h2')]\n",
    "    elif url == \"https://minibusinessnews.com/how-to-make-a-christmas-even-merrier/\":\n",
    "        text = [ p.text for p in soup.find(class_=\"entry-content\").find_all('li')]\n",
    "    elif url == \"https://www.realbuzz.com/articles-interests/festive-health-fitness/article/10-ways-to-make-this-your-best-christmas-ever/\":\n",
    "        text = [ p.text for p in soup.find_all(class_='numbered-heading__table-layout-cell')]\n",
    "    elif url == \"https://www.insider.com/things-you-should-always-do-on-christmas-2017-12#spend-time-with-loved-ones-3\":\n",
    "        text = [ p.text for p in soup.find_all(class_='slide-title-text')]\n",
    "    elif url == \"https://www.lifeandexperiences.com/how-to-do-good-this-christmas/\":\n",
    "        text = [ p.text  for p in soup.find_all('h2')]\n",
    "        \n",
    "    return text\n",
    "        \n",
    "    "
   ]
  },
  {
   "cell_type": "code",
   "execution_count": 5,
   "metadata": {},
   "outputs": [],
   "source": [
    "transcript = [url_to_transcript(u) for u in url]"
   ]
  },
  {
   "cell_type": "code",
   "execution_count": 6,
   "metadata": {},
   "outputs": [
    {
     "name": "stderr",
     "output_type": "stream",
     "text": [
      "A subdirectory or file transcripts already exists.\n"
     ]
    }
   ],
   "source": [
    "#create directory\n",
    "!mkdir transcripts\n",
    "#write each text data of url to a textfile\n",
    "for i, c in enumerate(author):\n",
    "  with open(\"transcripts/\" + c + \".txt\", \"wb\") as file:\n",
    "    pickle.dump(transcript[i], file)"
   ]
  },
  {
   "cell_type": "code",
   "execution_count": 11,
   "metadata": {},
   "outputs": [],
   "source": [
    "#load files\n",
    "data = {}\n",
    "for i, c in enumerate(author):\n",
    "  with open(\"transcripts/\" + c + \".txt\", \"rb\") as file:\n",
    "    data[c] = pickle.load(file)"
   ]
  },
  {
   "cell_type": "code",
   "execution_count": 8,
   "metadata": {},
   "outputs": [],
   "source": [
    "pd.set_option('max_colwidth',500)"
   ]
  },
  {
   "cell_type": "code",
   "execution_count": 12,
   "metadata": {},
   "outputs": [
    {
     "name": "stdout",
     "output_type": "stream",
     "text": [
      "                                                            Mark Driscoll\n",
      "0                                                                        \n",
      "1  Meet as a Family and Brainstorm Various Things Each Member Wants to Do\n",
      "2                           Put Together a Reasonable Holiday Pencil Plan\n",
      "3                             Get the Family Holiday Plan on the Calendar\n",
      "4                               Get the Family Holiday Plan in the Budget\n",
      "5                                     Make Some Sacred Holiday Traditions\n",
      "6                                         Take a Lot of Photos and Videos\n",
      "7                                                                        \n",
      "                                                               Woodgeek\n",
      "0                                        \\nA Christmas Movie Marathon\\n\n",
      "1                                         Donate to Charity & Volunteer\n",
      "2                                        Bake Christmas Cookies & Cakes\n",
      "3                                         A CHRISTMAS PARTY TO REMEMBER\n",
      "4                        ORGANIZE A POTLUCK LUNCH OR A CHRISTMAS PICNIC\n",
      "5                             \\nORGANIZE A SECRET SANTA GIFT EXCHANGE\\n\n",
      "6         MAKE A WREATH FOR YOUR FRONT DOOR AND ORNAMENTS FOR YOUR TREE\n",
      "7                                                        VISIT A CHURCH\n",
      "8                                  BEGIN YOUR DAY WITH CHRISTMAS CAROLS\n",
      "9                                                         MAKE MEMORIES\n",
      "10  MAKE YOUR LOVED ONES FEEL SPECIAL WITH PERSONALIZED CHRISTMAS GIFTS\n",
      "                               Sunny95mishra95\n",
      "0                      Baking a Christmas cake\n",
      "1        Making your home ready for Christmas \n",
      "2                              Christmas socks\n",
      "3                  Lip-smacking Ginger cookies\n",
      "4                 Soulful and enchanting Music\n",
      "5                                    Diy gifts\n",
      "6                    Dress code for your party\n",
      "7  Learning the traditional roots of Christmas\n",
      "                              RealBuzz\n",
      "0                   Enjoy the build up\n",
      "1                Christmas movie night\n",
      "2                Read a Christmas book\n",
      "3                          Shop online\n",
      "4              Write a letter to Santa\n",
      "5                    Gingerbread house\n",
      "6    Easy Christmas biscuit tree stack\n",
      "7                  Christmas tradition\n",
      "8  Get the best wrapped presents award\n",
      "9                         Get involved\n",
      "                                        Madeline Diamond\n",
      "0                Frolic in the snow, no matter your age.\n",
      "1                      Get creative with your gift wrap.\n",
      "2                            Spend time with loved ones.\n",
      "3                             Spend all day in your PJs.\n",
      "4                                   Drink your calories.\n",
      "5                              Visit a Christmas market.\n",
      "6                    Cozy up by the fire (real or fake).\n",
      "7                   Watch your favorite Christmas movie.\n",
      "8                      Visit or set up a nativity scene.\n",
      "9                            Jam out to Christmas music.\n",
      "10                                          Go caroling.\n",
      "11                               Bake Christmas cookies.\n",
      "12  Check out the Christmas lights in your neighborhood.\n",
      "13                          Go watch a Christmas parade.\n",
      "14                         Decorate a gingerbread house.\n",
      "15                       Rock an ugly Christmas sweater.\n",
      "16                  Put the star on your Christmas tree.\n",
      "17   Eat fruitcake for the first and last time all year.\n",
      "18                     Host or attend a Christmas party.\n",
      "19                      Finish off your advent calendar.\n",
      "                                      Amelie Lawrence\n",
      "0                   Spend Time with Lonely Loved Ones\n",
      "1                         Give the Gift of a Donation\n",
      "2  Help Decorate Community Spaces and Organize Events\n",
      "3                  Write Christmas Cards to Strangers\n",
      "4                      Have an Eco-Friendly Christmas\n",
      "5                                         Adopt a Pet\n",
      "6                         Do a Random Act of Kindness\n"
     ]
    }
   ],
   "source": [
    "for auth in data:\n",
    "    for key in data[auth]:\n",
    "        pass\n",
    "    \n",
    "    df = pd.DataFrame(data[auth],columns = [auth])\n",
    "    print(df)"
   ]
  },
  {
   "cell_type": "code",
   "execution_count": null,
   "metadata": {},
   "outputs": [],
   "source": []
  }
 ],
 "metadata": {
  "kernelspec": {
   "display_name": "Python 3",
   "language": "python",
   "name": "python3"
  },
  "language_info": {
   "codemirror_mode": {
    "name": "ipython",
    "version": 3
   },
   "file_extension": ".py",
   "mimetype": "text/x-python",
   "name": "python",
   "nbconvert_exporter": "python",
   "pygments_lexer": "ipython3",
   "version": "3.8.3"
  }
 },
 "nbformat": 4,
 "nbformat_minor": 4
}
